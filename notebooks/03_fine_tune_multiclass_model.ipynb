{
 "cells": [
  {
   "cell_type": "markdown",
   "metadata": {},
   "source": [
    "# Fine Tuning Multiclass Classifier\n",
    "### Example: Face Recognition of World Leaders\n",
    "\n",
    "Andreu Casas and Nora Webb Williams"
   ]
  },
  {
   "cell_type": "markdown",
   "metadata": {},
   "source": [
    "### Paths & Constants"
   ]
  },
  {
   "cell_type": "code",
   "execution_count": null,
   "metadata": {},
   "outputs": [],
   "source": [
    "# DATA_PATH is where world leaders images are (the data)\n",
    "DATA_PATH = '../data/'"
   ]
  },
  {
   "cell_type": "markdown",
   "metadata": {},
   "source": [
    "### Hyperparameters"
   ]
  },
  {
   "cell_type": "code",
   "execution_count": 13,
   "metadata": {},
   "outputs": [],
   "source": [
    "# Which sets of data do you want to train a model for? \n",
    "# If left empty, code with train for all directories in the DATA_PATH directory\n",
    "model_list = ['world_leaders']\n",
    "\n",
    "# Fine-tuning specification\n",
    "num_classes = 6 # Enter the number of classes you are training for. There are 6 World Leaders.\n",
    "set_report_num = 1 # Enter how often you wish the program to report back as it iterates\n",
    "\n",
    "# Hyperparameters\n",
    "hyperparam_combo_num = 1 # Use this to keep track of which version of hyperparameters you are using \n",
    "set_learn_rate = 0.001 # Enter the desired learning rate\n",
    "set_momentum = .9 # Enter the desired momentum\n",
    "set_step_size = 7 # Enter the desired step size\n",
    "set_gamma = 0.1 # Enter the desired gamma\n",
    "set_iterations = 20 # Enter the desired number of iterations\n",
    "set_batch_size = 4 # Enter the desired batch size"
   ]
  },
  {
   "cell_type": "markdown",
   "metadata": {},
   "source": [
    "### Packages"
   ]
  },
  {
   "cell_type": "code",
   "execution_count": 4,
   "metadata": {},
   "outputs": [],
   "source": [
    "import torch\n",
    "import torch.nn as nn\n",
    "import torch.optim as optim\n",
    "from torch.optim import lr_scheduler\n",
    "import torchvision\n",
    "from torchvision import datasets, models\n",
    "import matplotlib.pyplot as plt\n",
    "import numpy as np\n",
    "plt.ion()   # interactive mode\n",
    "import os\n",
    "import pickle\n",
    "import json\n",
    "from PIL import Image\n",
    "import re\n",
    "import pandas as pd"
   ]
  },
  {
   "cell_type": "markdown",
   "metadata": {},
   "source": [
    "### Functions"
   ]
  },
  {
   "cell_type": "code",
   "execution_count": 5,
   "metadata": {},
   "outputs": [],
   "source": [
    "exec(open('00_functions.py', \"rb\").read())"
   ]
  },
  {
   "cell_type": "markdown",
   "metadata": {},
   "source": [
    "### --MAIN-- Model Trainig"
   ]
  },
  {
   "cell_type": "code",
   "execution_count": 6,
   "metadata": {},
   "outputs": [],
   "source": [
    "model_str = model_list[0]\n",
    "    \n",
    "# - preprocessing to be applied to the images. See '00_functions.py' script\n",
    "#   for more details on the 'data_transform()' function\n",
    "preprocess = data_tranform()\n",
    "# - checking if the machine has GPUs\n",
    "use_gpu = torch.cuda.is_available()\n",
    "\n",
    "# - how often (every how many iterations) should the loop print/report accuracy\n",
    "report_num = set_report_num \n",
    "\n",
    "# Iterate through the datasets and build image classifiers.\n",
    "counter_models = 0\n",
    "total_models = len(model_list)"
   ]
  },
  {
   "cell_type": "code",
   "execution_count": 14,
   "metadata": {},
   "outputs": [],
   "source": [
    "#================================================================\n",
    "# INITIALIZE MODEL\n",
    "#================================================================\n",
    "# - load a pretrained model from TorchVision: ResNet18\n",
    "model = models.resnet18(pretrained=True)\n",
    "\n",
    "# - check number of features in last fully connected layer\n",
    "num_ftrs = model.fc.in_features \n",
    "\n",
    "# - change the output layer from 1,000 classes to a binary outcome\n",
    "model.fc = nn.Linear(num_ftrs, num_classes) # For ResNet18, last step is 512 -> 6 for multi-class"
   ]
  },
  {
   "cell_type": "code",
   "execution_count": 15,
   "metadata": {},
   "outputs": [],
   "source": [
    "#================================================================\n",
    "# MODEL HYPER-PARAMETERS\n",
    "#================================================================\n",
    "# - specify some model hyperparameters\n",
    "criterion = nn.CrossEntropyLoss() # loss function\n",
    "optimizer = optim.SGD(model.parameters(), \n",
    "                         lr=set_learn_rate, \n",
    "                         momentum=set_momentum) # how to perform optimization\n",
    "scheduler = lr_scheduler.StepLR(optimizer, \n",
    "                                       step_size=set_step_size, \n",
    "                                       gamma=set_gamma) # how to update learning rate     orginially .1\n",
    "\n",
    "# - number of iterations\n",
    "iter_num = set_iterations"
   ]
  },
  {
   "cell_type": "code",
   "execution_count": 16,
   "metadata": {},
   "outputs": [],
   "source": [
    "#================================================================\n",
    "# PRE-PROCESSING\n",
    "#================================================================\n",
    "# - specify the path to data for this particular classifier\n",
    "model_path = '%s/%s/'%(DATA_PATH, model_str)\n",
    "\n",
    "# - specifying where the train and test images are\n",
    "image_datasets = {x: datasets.ImageFolder(os.path.join(model_path, x),\n",
    "                                          preprocess[x])\n",
    "                  for x in ['train', 'test']}\n",
    "\n",
    "# - creating an object to easily load the train and test images\n",
    "dataloaders = {x: torch.utils.data.DataLoader(image_datasets[x], batch_size=set_batch_size,\n",
    "                                             shuffle=True)\n",
    "              for x in ['train', 'test']}\n",
    "\n",
    "# - getting some extra information such as the size of the dataset and the\n",
    "#       class number\n",
    "dataset_sizes = {x: len(image_datasets[x]) for x in ['train', 'test']}\n",
    "class_names = image_datasets['train'].classes\n",
    "\n",
    "# - specify whether to use gpu \n",
    "if use_gpu:\n",
    "    model = model.cuda()"
   ]
  },
  {
   "cell_type": "code",
   "execution_count": 24,
   "metadata": {},
   "outputs": [
    {
     "data": {
      "text/plain": [
       "['ESP', 'USA', 'VEN']"
      ]
     },
     "execution_count": 24,
     "metadata": {},
     "output_type": "execute_result"
    }
   ],
   "source": [
    "image_datasets['train'].classes"
   ]
  },
  {
   "cell_type": "code",
   "execution_count": 22,
   "metadata": {},
   "outputs": [
    {
     "name": "stdout",
     "output_type": "stream",
     "text": [
      "Training Model 4 of 1: WORLD_LEADERS\n",
      "=================================\n",
      "\n",
      "Iteration 0/19\n",
      "----------\n",
      "train Loss:0.0505 Acc:0.9375\n",
      "\n",
      "test Loss:1.1908 Acc:0.4945\n",
      "\n",
      "... ESP precision: 0.82 | recall: 1.0\n",
      "... USA precision: 0.16 | recall: 0.4\n",
      "... VEN precision: 0 | recall: 0\n",
      "\n",
      "\n",
      "\n",
      "Iteration 1/19\n",
      "----------\n",
      "train Loss:0.0689 Acc:0.9062\n",
      "\n"
     ]
    },
    {
     "ename": "KeyboardInterrupt",
     "evalue": "",
     "output_type": "error",
     "traceback": [
      "\u001b[0;31m---------------------------------------------------------------------------\u001b[0m",
      "\u001b[0;31mKeyboardInterrupt\u001b[0m                         Traceback (most recent call last)",
      "\u001b[0;32m<ipython-input-22-0f883fa30927>\u001b[0m in \u001b[0;36m<module>\u001b[0;34m\u001b[0m\n\u001b[1;32m     46\u001b[0m         \u001b[0;31m#   iterate through groups of 4 train and 4 test\u001b[0m\u001b[0;34m\u001b[0m\u001b[0;34m\u001b[0m\u001b[0m\n\u001b[1;32m     47\u001b[0m         \u001b[0;31m#   images.\u001b[0m\u001b[0;34m\u001b[0m\u001b[0;34m\u001b[0m\u001b[0m\n\u001b[0;32m---> 48\u001b[0;31m         \u001b[0;32mfor\u001b[0m \u001b[0mdata\u001b[0m \u001b[0;32min\u001b[0m \u001b[0mdataloaders\u001b[0m\u001b[0;34m[\u001b[0m\u001b[0mphase\u001b[0m\u001b[0;34m]\u001b[0m\u001b[0;34m:\u001b[0m\u001b[0;34m\u001b[0m\u001b[0m\n\u001b[0m\u001b[1;32m     49\u001b[0m             \u001b[0;31m# - get the inputs\u001b[0m\u001b[0;34m\u001b[0m\u001b[0;34m\u001b[0m\u001b[0m\n\u001b[1;32m     50\u001b[0m             \u001b[0minputs\u001b[0m\u001b[0;34m,\u001b[0m \u001b[0mlabels\u001b[0m \u001b[0;34m=\u001b[0m \u001b[0mdata\u001b[0m\u001b[0;34m\u001b[0m\u001b[0m\n",
      "\u001b[0;32m/opt/conda/lib/python3.6/site-packages/torch/utils/data/dataloader.py\u001b[0m in \u001b[0;36m__next__\u001b[0;34m(self)\u001b[0m\n\u001b[1;32m    177\u001b[0m         \u001b[0;32mif\u001b[0m \u001b[0mself\u001b[0m\u001b[0;34m.\u001b[0m\u001b[0mnum_workers\u001b[0m \u001b[0;34m==\u001b[0m \u001b[0;36m0\u001b[0m\u001b[0;34m:\u001b[0m  \u001b[0;31m# same-process loading\u001b[0m\u001b[0;34m\u001b[0m\u001b[0m\n\u001b[1;32m    178\u001b[0m             \u001b[0mindices\u001b[0m \u001b[0;34m=\u001b[0m \u001b[0mnext\u001b[0m\u001b[0;34m(\u001b[0m\u001b[0mself\u001b[0m\u001b[0;34m.\u001b[0m\u001b[0msample_iter\u001b[0m\u001b[0;34m)\u001b[0m  \u001b[0;31m# may raise StopIteration\u001b[0m\u001b[0;34m\u001b[0m\u001b[0m\n\u001b[0;32m--> 179\u001b[0;31m             \u001b[0mbatch\u001b[0m \u001b[0;34m=\u001b[0m \u001b[0mself\u001b[0m\u001b[0;34m.\u001b[0m\u001b[0mcollate_fn\u001b[0m\u001b[0;34m(\u001b[0m\u001b[0;34m[\u001b[0m\u001b[0mself\u001b[0m\u001b[0;34m.\u001b[0m\u001b[0mdataset\u001b[0m\u001b[0;34m[\u001b[0m\u001b[0mi\u001b[0m\u001b[0;34m]\u001b[0m \u001b[0;32mfor\u001b[0m \u001b[0mi\u001b[0m \u001b[0;32min\u001b[0m \u001b[0mindices\u001b[0m\u001b[0;34m]\u001b[0m\u001b[0;34m)\u001b[0m\u001b[0;34m\u001b[0m\u001b[0m\n\u001b[0m\u001b[1;32m    180\u001b[0m             \u001b[0;32mif\u001b[0m \u001b[0mself\u001b[0m\u001b[0;34m.\u001b[0m\u001b[0mpin_memory\u001b[0m\u001b[0;34m:\u001b[0m\u001b[0;34m\u001b[0m\u001b[0m\n\u001b[1;32m    181\u001b[0m                 \u001b[0mbatch\u001b[0m \u001b[0;34m=\u001b[0m \u001b[0mpin_memory_batch\u001b[0m\u001b[0;34m(\u001b[0m\u001b[0mbatch\u001b[0m\u001b[0;34m)\u001b[0m\u001b[0;34m\u001b[0m\u001b[0m\n",
      "\u001b[0;32m/opt/conda/lib/python3.6/site-packages/torch/utils/data/dataloader.py\u001b[0m in \u001b[0;36m<listcomp>\u001b[0;34m(.0)\u001b[0m\n\u001b[1;32m    177\u001b[0m         \u001b[0;32mif\u001b[0m \u001b[0mself\u001b[0m\u001b[0;34m.\u001b[0m\u001b[0mnum_workers\u001b[0m \u001b[0;34m==\u001b[0m \u001b[0;36m0\u001b[0m\u001b[0;34m:\u001b[0m  \u001b[0;31m# same-process loading\u001b[0m\u001b[0;34m\u001b[0m\u001b[0m\n\u001b[1;32m    178\u001b[0m             \u001b[0mindices\u001b[0m \u001b[0;34m=\u001b[0m \u001b[0mnext\u001b[0m\u001b[0;34m(\u001b[0m\u001b[0mself\u001b[0m\u001b[0;34m.\u001b[0m\u001b[0msample_iter\u001b[0m\u001b[0;34m)\u001b[0m  \u001b[0;31m# may raise StopIteration\u001b[0m\u001b[0;34m\u001b[0m\u001b[0m\n\u001b[0;32m--> 179\u001b[0;31m             \u001b[0mbatch\u001b[0m \u001b[0;34m=\u001b[0m \u001b[0mself\u001b[0m\u001b[0;34m.\u001b[0m\u001b[0mcollate_fn\u001b[0m\u001b[0;34m(\u001b[0m\u001b[0;34m[\u001b[0m\u001b[0mself\u001b[0m\u001b[0;34m.\u001b[0m\u001b[0mdataset\u001b[0m\u001b[0;34m[\u001b[0m\u001b[0mi\u001b[0m\u001b[0;34m]\u001b[0m \u001b[0;32mfor\u001b[0m \u001b[0mi\u001b[0m \u001b[0;32min\u001b[0m \u001b[0mindices\u001b[0m\u001b[0;34m]\u001b[0m\u001b[0;34m)\u001b[0m\u001b[0;34m\u001b[0m\u001b[0m\n\u001b[0m\u001b[1;32m    180\u001b[0m             \u001b[0;32mif\u001b[0m \u001b[0mself\u001b[0m\u001b[0;34m.\u001b[0m\u001b[0mpin_memory\u001b[0m\u001b[0;34m:\u001b[0m\u001b[0;34m\u001b[0m\u001b[0m\n\u001b[1;32m    181\u001b[0m                 \u001b[0mbatch\u001b[0m \u001b[0;34m=\u001b[0m \u001b[0mpin_memory_batch\u001b[0m\u001b[0;34m(\u001b[0m\u001b[0mbatch\u001b[0m\u001b[0;34m)\u001b[0m\u001b[0;34m\u001b[0m\u001b[0m\n",
      "\u001b[0;32m/opt/conda/lib/python3.6/site-packages/torchvision-0.1.9-py3.6.egg/torchvision/datasets/folder.py\u001b[0m in \u001b[0;36m__getitem__\u001b[0;34m(self, index)\u001b[0m\n\u001b[1;32m    114\u001b[0m         \"\"\"\n\u001b[1;32m    115\u001b[0m         \u001b[0mpath\u001b[0m\u001b[0;34m,\u001b[0m \u001b[0mtarget\u001b[0m \u001b[0;34m=\u001b[0m \u001b[0mself\u001b[0m\u001b[0;34m.\u001b[0m\u001b[0mimgs\u001b[0m\u001b[0;34m[\u001b[0m\u001b[0mindex\u001b[0m\u001b[0;34m]\u001b[0m\u001b[0;34m\u001b[0m\u001b[0m\n\u001b[0;32m--> 116\u001b[0;31m         \u001b[0mimg\u001b[0m \u001b[0;34m=\u001b[0m \u001b[0mself\u001b[0m\u001b[0;34m.\u001b[0m\u001b[0mloader\u001b[0m\u001b[0;34m(\u001b[0m\u001b[0mpath\u001b[0m\u001b[0;34m)\u001b[0m\u001b[0;34m\u001b[0m\u001b[0m\n\u001b[0m\u001b[1;32m    117\u001b[0m         \u001b[0;32mif\u001b[0m \u001b[0mself\u001b[0m\u001b[0;34m.\u001b[0m\u001b[0mtransform\u001b[0m \u001b[0;32mis\u001b[0m \u001b[0;32mnot\u001b[0m \u001b[0;32mNone\u001b[0m\u001b[0;34m:\u001b[0m\u001b[0;34m\u001b[0m\u001b[0m\n\u001b[1;32m    118\u001b[0m             \u001b[0mimg\u001b[0m \u001b[0;34m=\u001b[0m \u001b[0mself\u001b[0m\u001b[0;34m.\u001b[0m\u001b[0mtransform\u001b[0m\u001b[0;34m(\u001b[0m\u001b[0mimg\u001b[0m\u001b[0;34m)\u001b[0m\u001b[0;34m\u001b[0m\u001b[0m\n",
      "\u001b[0;32m/opt/conda/lib/python3.6/site-packages/torchvision-0.1.9-py3.6.egg/torchvision/datasets/folder.py\u001b[0m in \u001b[0;36mdefault_loader\u001b[0;34m(path)\u001b[0m\n\u001b[1;32m     61\u001b[0m         \u001b[0;32mreturn\u001b[0m \u001b[0maccimage_loader\u001b[0m\u001b[0;34m(\u001b[0m\u001b[0mpath\u001b[0m\u001b[0;34m)\u001b[0m\u001b[0;34m\u001b[0m\u001b[0m\n\u001b[1;32m     62\u001b[0m     \u001b[0;32melse\u001b[0m\u001b[0;34m:\u001b[0m\u001b[0;34m\u001b[0m\u001b[0m\n\u001b[0;32m---> 63\u001b[0;31m         \u001b[0;32mreturn\u001b[0m \u001b[0mpil_loader\u001b[0m\u001b[0;34m(\u001b[0m\u001b[0mpath\u001b[0m\u001b[0;34m)\u001b[0m\u001b[0;34m\u001b[0m\u001b[0m\n\u001b[0m\u001b[1;32m     64\u001b[0m \u001b[0;34m\u001b[0m\u001b[0m\n\u001b[1;32m     65\u001b[0m \u001b[0;34m\u001b[0m\u001b[0m\n",
      "\u001b[0;32m/opt/conda/lib/python3.6/site-packages/torchvision-0.1.9-py3.6.egg/torchvision/datasets/folder.py\u001b[0m in \u001b[0;36mpil_loader\u001b[0;34m(path)\u001b[0m\n\u001b[1;32m     44\u001b[0m     \u001b[0;32mwith\u001b[0m \u001b[0mopen\u001b[0m\u001b[0;34m(\u001b[0m\u001b[0mpath\u001b[0m\u001b[0;34m,\u001b[0m \u001b[0;34m'rb'\u001b[0m\u001b[0;34m)\u001b[0m \u001b[0;32mas\u001b[0m \u001b[0mf\u001b[0m\u001b[0;34m:\u001b[0m\u001b[0;34m\u001b[0m\u001b[0m\n\u001b[1;32m     45\u001b[0m         \u001b[0;32mwith\u001b[0m \u001b[0mImage\u001b[0m\u001b[0;34m.\u001b[0m\u001b[0mopen\u001b[0m\u001b[0;34m(\u001b[0m\u001b[0mf\u001b[0m\u001b[0;34m)\u001b[0m \u001b[0;32mas\u001b[0m \u001b[0mimg\u001b[0m\u001b[0;34m:\u001b[0m\u001b[0;34m\u001b[0m\u001b[0m\n\u001b[0;32m---> 46\u001b[0;31m             \u001b[0;32mreturn\u001b[0m \u001b[0mimg\u001b[0m\u001b[0;34m.\u001b[0m\u001b[0mconvert\u001b[0m\u001b[0;34m(\u001b[0m\u001b[0;34m'RGB'\u001b[0m\u001b[0;34m)\u001b[0m\u001b[0;34m\u001b[0m\u001b[0m\n\u001b[0m\u001b[1;32m     47\u001b[0m \u001b[0;34m\u001b[0m\u001b[0m\n\u001b[1;32m     48\u001b[0m \u001b[0;34m\u001b[0m\u001b[0m\n",
      "\u001b[0;32m/opt/conda/lib/python3.6/site-packages/PIL/Image.py\u001b[0m in \u001b[0;36mconvert\u001b[0;34m(self, mode, matrix, dither, palette, colors)\u001b[0m\n\u001b[1;32m    910\u001b[0m         \"\"\"\n\u001b[1;32m    911\u001b[0m \u001b[0;34m\u001b[0m\u001b[0m\n\u001b[0;32m--> 912\u001b[0;31m         \u001b[0mself\u001b[0m\u001b[0;34m.\u001b[0m\u001b[0mload\u001b[0m\u001b[0;34m(\u001b[0m\u001b[0;34m)\u001b[0m\u001b[0;34m\u001b[0m\u001b[0m\n\u001b[0m\u001b[1;32m    913\u001b[0m \u001b[0;34m\u001b[0m\u001b[0m\n\u001b[1;32m    914\u001b[0m         \u001b[0;32mif\u001b[0m \u001b[0;32mnot\u001b[0m \u001b[0mmode\u001b[0m \u001b[0;32mand\u001b[0m \u001b[0mself\u001b[0m\u001b[0;34m.\u001b[0m\u001b[0mmode\u001b[0m \u001b[0;34m==\u001b[0m \u001b[0;34m\"P\"\u001b[0m\u001b[0;34m:\u001b[0m\u001b[0;34m\u001b[0m\u001b[0m\n",
      "\u001b[0;32m/opt/conda/lib/python3.6/site-packages/PIL/ImageFile.py\u001b[0m in \u001b[0;36mload\u001b[0;34m(self)\u001b[0m\n\u001b[1;32m    240\u001b[0m \u001b[0;34m\u001b[0m\u001b[0m\n\u001b[1;32m    241\u001b[0m                             \u001b[0mb\u001b[0m \u001b[0;34m=\u001b[0m \u001b[0mb\u001b[0m \u001b[0;34m+\u001b[0m \u001b[0ms\u001b[0m\u001b[0;34m\u001b[0m\u001b[0m\n\u001b[0;32m--> 242\u001b[0;31m                             \u001b[0mn\u001b[0m\u001b[0;34m,\u001b[0m \u001b[0merr_code\u001b[0m \u001b[0;34m=\u001b[0m \u001b[0mdecoder\u001b[0m\u001b[0;34m.\u001b[0m\u001b[0mdecode\u001b[0m\u001b[0;34m(\u001b[0m\u001b[0mb\u001b[0m\u001b[0;34m)\u001b[0m\u001b[0;34m\u001b[0m\u001b[0m\n\u001b[0m\u001b[1;32m    243\u001b[0m                             \u001b[0;32mif\u001b[0m \u001b[0mn\u001b[0m \u001b[0;34m<\u001b[0m \u001b[0;36m0\u001b[0m\u001b[0;34m:\u001b[0m\u001b[0;34m\u001b[0m\u001b[0m\n\u001b[1;32m    244\u001b[0m                                 \u001b[0;32mbreak\u001b[0m\u001b[0;34m\u001b[0m\u001b[0m\n",
      "\u001b[0;31mKeyboardInterrupt\u001b[0m: "
     ]
    }
   ],
   "source": [
    "#================================================================\n",
    "# MODEL ESTIMATION\n",
    "#================================================================\n",
    "# - update counter and report progress\n",
    "counter_models += 1\n",
    "print('Training Model %s of %s: %s'%(counter_models, total_models, model_str.upper()))\n",
    "print('=================================\\n')\n",
    "\n",
    "# - check the size of the train and test sets\n",
    "dataset_sizes = {x: len(image_datasets[x]) for x in ['train', 'test']}\n",
    "\n",
    "# - initialize a time object so we can check how long the training \n",
    "#   takes\n",
    "since = time.time()\n",
    "\n",
    "# - initialize a matrix of weights (model parameters) and accuracy\n",
    "#   object where we'll save the weights and accuracy info for the\n",
    "#   most accurate weights-configuration\n",
    "best_model_wts = model.state_dict()\n",
    "best_acc = 0.0\n",
    "best_precision = 0.0\n",
    "best_recall = 0.0\n",
    "loss_progress = []  \n",
    "acc_progress = []\n",
    "\n",
    "# - \n",
    "for iteration in range(iter_num):\n",
    "    if iteration % report_num == 0:\n",
    "        print('Iteration {}/{}'.format(iteration, iter_num - 1))\n",
    "        print('-' * 10)\n",
    "\n",
    "    # - each iteration has a training and testing phase\n",
    "    for phase in ['train', 'test']:\n",
    "        if phase == 'train':\n",
    "            scheduler.step() # update model weights\n",
    "            model.train(True)  # set model to training mode\n",
    "        else:\n",
    "            model.train(False)  # set model to evaluate mode\n",
    "\n",
    "        running_loss = 0.0\n",
    "        running_corrects = 0\n",
    "        running_preds = []\n",
    "        running_labels = []\n",
    "\n",
    "        # - iterate over data: in training iteration we\n",
    "        #   iterate through groups of 4 train and 4 test\n",
    "        #   images.\n",
    "        for data in dataloaders[phase]:\n",
    "            # - get the inputs\n",
    "            inputs, labels = data\n",
    "\n",
    "            # - transform data and labels into PyTorch variables\n",
    "            if use_gpu:\n",
    "                inputs = Variable(inputs.cuda())\n",
    "                labels = Variable(labels.cuda())\n",
    "            else:\n",
    "                inputs, labels = Variable(inputs), Variable(labels)\n",
    "\n",
    "            # - gradients back to 0 (re-calculated in each iteration)\n",
    "            optimizer.zero_grad()\n",
    "\n",
    "            # - forward propagation: applying dot products\n",
    "            outputs = model(inputs)\n",
    "            _, preds = torch.max(outputs.data, 1)\n",
    "            preds_int_list = list(preds)\n",
    "            labels_int_list = list(labels.data)                \n",
    "            loss = criterion(outputs, labels)\n",
    "\n",
    "            # (only in training phase)\n",
    "            # - backward propagation: calculate loss and gradients\n",
    "            if phase == 'train':\n",
    "                loss.backward()\n",
    "                optimizer.step()\n",
    "\n",
    "            # - calculate accuracy statistics\n",
    "            running_loss += loss.data[0] #.item()\n",
    "            running_corrects += torch.sum(preds == labels.data) #.item()\n",
    "            running_preds = running_preds + preds_int_list\n",
    "            running_labels = running_labels + labels_int_list\n",
    "\n",
    "        iter_loss = running_loss / dataset_sizes[phase]\n",
    "        iter_acc = running_corrects / dataset_sizes[phase]\n",
    "        # - report training progress once every N (e.g. 10) iterations\n",
    "        if iteration % report_num == 0:\n",
    "            print('{} Loss:{:.4f} Acc:{:.4f}\\n'.format(\n",
    "                phase, iter_loss, iter_acc))\n",
    "            \n",
    "        # ... (calculating precision and recall by class)\n",
    "        if phase == 'test':\n",
    "            for class_i in range(0, len(class_names)):    \n",
    "                labels_class_i_indices = [i for i in range(0, len(running_labels)) if running_labels[i] == class_i]\n",
    "                preds_class_i_indices = [i for i in range(0, len(running_preds)) if running_preds[i] == class_i]\n",
    "                correctly_recalled = [x for x in labels_class_i_indices if x in preds_class_i_indices]\n",
    "                correctly_predicted = [x for x in preds_class_i_indices if x in labels_class_i_indices]\n",
    "                if len(correctly_recalled) > 0:\n",
    "                    class_recall = round(len(correctly_recalled) / round(len(labels_class_i_indices)), 2)\n",
    "                else:\n",
    "                    class_recall = 0\n",
    "                if len(correctly_predicted) > 0:\n",
    "                    class_precision = round(len(correctly_predicted) / round(len(preds_class_i_indices)), 2)\n",
    "                else:\n",
    "                    class_precision = 0\n",
    "                print('... %s precision: %s | recall: %s'%(class_names[class_i], class_precision, class_recall))\n",
    "            print('\\n\\n')\n",
    "\n",
    "        # - if this iteration's results are the best so far,\n",
    "        #   saving a copy of this best model\n",
    "        if phase == 'test' and iter_acc > best_acc:\n",
    "            best_acc = iter_acc\n",
    "            best_model_wts = model.state_dict()                \n",
    "        if phase == 'test':\n",
    "            # - keep track of the evolution of the loss and accuracy\n",
    "            loss_progress.append(iter_loss)\n",
    "            acc_progress.append(iter_acc)\n",
    "\n",
    "    # - if the accuracy is already pretty high, move to next\n",
    "    #   classifier\n",
    "    if best_acc > 0.95 and best_precision > 0.95 and best_recall > 0.95:\n",
    "        print('... reached good model accuracy, moving to next model.')\n",
    "        break\n",
    "\n",
    "# - check how long it took to estimate the model and report\n",
    "#   time and results for the most accurate model weights\n",
    "time_elapsed = time.time() - since\n",
    "print('Training complete in {:.0f}m {:.0f}s'.format(\n",
    "    time_elapsed // 60, time_elapsed % 60))\n",
    "print('Best val Acc: {:4f}\\n\\n'.format(best_acc))    \n",
    "\n",
    "# - use the best model to predict labels for the whole\n",
    "#   test set and calculate precision and recall of the\n",
    "#   binary classifier   \n",
    "\n",
    "# - save the best model weights and accuracy (uncomment for saving the model)\n",
    "#model.load_state_dict(best_model_wts)\n",
    "#torch.save(model, '%s/MODELS/%s.pth'%(DATA_PATH, model_str + '_' + str(hyperparam_combo_num)))\n",
    "accuracy_summary = {'acc':best_acc,\n",
    "                      'precision':best_precision,\n",
    "                      'recall':best_recall,\n",
    "                      'lr':set_learn_rate,\n",
    "                      'momentum':set_momentum,\n",
    "                      'step_size':set_step_size,\n",
    "                      'gamma':set_gamma,\n",
    "                      'max_iters':set_iterations,\n",
    "                      'batch_size':set_batch_size, \n",
    "                      'acc_progress':acc_progress,\n",
    "                      'loss_progress':loss_progress\n",
    "                      }"
   ]
  },
  {
   "cell_type": "markdown",
   "metadata": {},
   "source": [
    "### Take a look at some model predictions"
   ]
  },
  {
   "cell_type": "code",
   "execution_count": 18,
   "metadata": {},
   "outputs": [
    {
     "data": {
      "image/png": "[encoded data removed]",
      "text/plain": [
       "<Figure size 432x288 with 1 Axes>"
      ]
     },
     "metadata": {
      "needs_background": "light"
     },
     "output_type": "display_data"
    },
    {
     "data": {
      "image/png": "[encoded data removed]",
      "text/plain": [
       "<Figure size 432x288 with 1 Axes>"
      ]
     },
     "metadata": {
      "needs_background": "light"
     },
     "output_type": "display_data"
    },
    {
     "data": {
      "image/png": "[encoded data removed]",
      "text/plain": [
       "<Figure size 432x288 with 1 Axes>"
      ]
     },
     "metadata": {
      "needs_background": "light"
     },
     "output_type": "display_data"
    },
    {
     "data": {
      "image/png": "[encoded data removed]",
      "text/plain": [
       "<Figure size 432x288 with 1 Axes>"
      ]
     },
     "metadata": {
      "needs_background": "light"
     },
     "output_type": "display_data"
    },
    {
     "data": {
      "image/png": "[encoded data removed]",
      "text/plain": [
       "<Figure size 432x288 with 1 Axes>"
      ]
     },
     "metadata": {
      "needs_background": "light"
     },
     "output_type": "display_data"
    },
    {
     "data": {
      "image/png": "[encoded data removed]",
      "text/plain": [
       "<Figure size 432x288 with 1 Axes>"
      ]
     },
     "metadata": {
      "needs_background": "light"
     },
     "output_type": "display_data"
    }
   ],
   "source": [
    "visualize_model(model = model,\n",
    "                class_names = class_names,\n",
    "                num_images = 6,\n",
    "                dataloaders = dataloaders,\n",
    "                use_gpu = use_gpu)"
   ]
  },
  {
   "cell_type": "markdown",
   "metadata": {
    "collapsed": true
   },
   "source": [
    "### Saving, loading, and using the trained model later"
   ]
  },
  {
   "cell_type": "code",
   "execution_count": 12,
   "metadata": {},
   "outputs": [
    {
     "ename": "FileNotFoundError",
     "evalue": "[Errno 2] No such file or directory: '../data//MODELS/world_leaders_1.pth'",
     "output_type": "error",
     "traceback": [
      "\u001b[0;31m---------------------------------------------------------------------------\u001b[0m",
      "\u001b[0;31mFileNotFoundError\u001b[0m                         Traceback (most recent call last)",
      "\u001b[0;32m<ipython-input-12-d17c83b25391>\u001b[0m in \u001b[0;36m<module>\u001b[0;34m\u001b[0m\n\u001b[1;32m      1\u001b[0m \u001b[0;31m# - PyTorch comes with a function to easily save models\u001b[0m\u001b[0;34m\u001b[0m\u001b[0;34m\u001b[0m\u001b[0m\n\u001b[0;32m----> 2\u001b[0;31m \u001b[0mtorch\u001b[0m\u001b[0;34m.\u001b[0m\u001b[0msave\u001b[0m\u001b[0;34m(\u001b[0m\u001b[0mmodel\u001b[0m\u001b[0;34m,\u001b[0m \u001b[0;34m'%s/MODELS/%s.pth'\u001b[0m\u001b[0;34m%\u001b[0m\u001b[0;34m(\u001b[0m\u001b[0mDATA_PATH\u001b[0m\u001b[0;34m,\u001b[0m \u001b[0mmodel_str\u001b[0m \u001b[0;34m+\u001b[0m \u001b[0;34m'_'\u001b[0m \u001b[0;34m+\u001b[0m \u001b[0mstr\u001b[0m\u001b[0;34m(\u001b[0m\u001b[0mhyperparam_combo_num\u001b[0m\u001b[0;34m)\u001b[0m\u001b[0;34m)\u001b[0m\u001b[0;34m)\u001b[0m\u001b[0;34m\u001b[0m\u001b[0m\n\u001b[0m\u001b[1;32m      3\u001b[0m \u001b[0;34m\u001b[0m\u001b[0m\n\u001b[1;32m      4\u001b[0m \u001b[0;31m# - for a multiclass classifier, remember to also save the file indicating to which class\u001b[0m\u001b[0;34m\u001b[0m\u001b[0;34m\u001b[0m\u001b[0m\n\u001b[1;32m      5\u001b[0m \u001b[0;31m#   each class key corresponds to: the model returns the class number/key and not the class\u001b[0m\u001b[0;34m\u001b[0m\u001b[0;34m\u001b[0m\u001b[0m\n",
      "\u001b[0;32m/opt/conda/lib/python3.6/site-packages/torch/serialization.py\u001b[0m in \u001b[0;36msave\u001b[0;34m(obj, f, pickle_module, pickle_protocol)\u001b[0m\n\u001b[1;32m    116\u001b[0m     \u001b[0;32mif\u001b[0m \u001b[0misinstance\u001b[0m\u001b[0;34m(\u001b[0m\u001b[0mf\u001b[0m\u001b[0;34m,\u001b[0m \u001b[0mstr\u001b[0m\u001b[0;34m)\u001b[0m \u001b[0;32mor\u001b[0m \u001b[0;34m(\u001b[0m\u001b[0msys\u001b[0m\u001b[0;34m.\u001b[0m\u001b[0mversion_info\u001b[0m\u001b[0;34m[\u001b[0m\u001b[0;36m0\u001b[0m\u001b[0;34m]\u001b[0m \u001b[0;34m==\u001b[0m \u001b[0;36m2\u001b[0m \u001b[0;32mand\u001b[0m \u001b[0misinstance\u001b[0m\u001b[0;34m(\u001b[0m\u001b[0mf\u001b[0m\u001b[0;34m,\u001b[0m \u001b[0municode\u001b[0m\u001b[0;34m)\u001b[0m\u001b[0;34m)\u001b[0m\u001b[0;34m:\u001b[0m\u001b[0;34m\u001b[0m\u001b[0m\n\u001b[1;32m    117\u001b[0m         \u001b[0mnew_fd\u001b[0m \u001b[0;34m=\u001b[0m \u001b[0;32mTrue\u001b[0m\u001b[0;34m\u001b[0m\u001b[0m\n\u001b[0;32m--> 118\u001b[0;31m         \u001b[0mf\u001b[0m \u001b[0;34m=\u001b[0m \u001b[0mopen\u001b[0m\u001b[0;34m(\u001b[0m\u001b[0mf\u001b[0m\u001b[0;34m,\u001b[0m \u001b[0;34m\"wb\"\u001b[0m\u001b[0;34m)\u001b[0m\u001b[0;34m\u001b[0m\u001b[0m\n\u001b[0m\u001b[1;32m    119\u001b[0m     \u001b[0;32mtry\u001b[0m\u001b[0;34m:\u001b[0m\u001b[0;34m\u001b[0m\u001b[0m\n\u001b[1;32m    120\u001b[0m         \u001b[0;32mreturn\u001b[0m \u001b[0m_save\u001b[0m\u001b[0;34m(\u001b[0m\u001b[0mobj\u001b[0m\u001b[0;34m,\u001b[0m \u001b[0mf\u001b[0m\u001b[0;34m,\u001b[0m \u001b[0mpickle_module\u001b[0m\u001b[0;34m,\u001b[0m \u001b[0mpickle_protocol\u001b[0m\u001b[0;34m)\u001b[0m\u001b[0;34m\u001b[0m\u001b[0m\n",
      "\u001b[0;31mFileNotFoundError\u001b[0m: [Errno 2] No such file or directory: '../data//MODELS/world_leaders_1.pth'"
     ]
    }
   ],
   "source": [
    "# - PyTorch comes with a function to easily save models\n",
    "torch.save(model, '%s/MODELS/%s.pth'%(DATA_PATH, model_str + '_' + str(hyperparam_combo_num)))\n",
    "\n",
    "# - for a multiclass classifier, remember to also save the file indicating to which class\n",
    "#   each class key corresponds to: the model returns the class number/key and not the class\n",
    "#   label! Saving the class key-labels as a csv\n",
    "model_class_key_labels = pd.DataFrame(\n",
    "    {\n",
    "        'label': class_names,\n",
    "        'key': range(0, len(class_names))\n",
    "    }\n",
    ")\n",
    "model_class_key_labels.to_csv('%s/MODELS/%s_labels.csv'%(DATA_PATH, model_str + '_' + str(hyperparam_combo_num)),\n",
    "                             index = False)"
   ]
  },
  {
   "cell_type": "code",
   "execution_count": null,
   "metadata": {},
   "outputs": [],
   "source": [
    "# - now reload the model again\n",
    "model_new = torch.load(\n",
    "    '%s/MODELS/%s.pth'%(DATA_PATH, model_str + '_' + str(hyperparam_combo_num)))\n",
    "# - and the class labels as well\n",
    "class_labels = pd.read_csv('%s/MODELS/%s_labels.csv'%(DATA_PATH, model_str + '_' + str(hyperparam_combo_num)))"
   ]
  },
  {
   "cell_type": "code",
   "execution_count": null,
   "metadata": {},
   "outputs": [],
   "source": [
    "# - load some example images to test how to use, on a new set of images, a model you previously trained\n",
    "# ... e.g. read 5 images from the ESP test directory and 5 images from the USA test directory\n",
    "esp_path = '%sworld_leaders/test/ESP/'%(DATA_PATH)\n",
    "usa_path = '%sworld_leaders/test/USA/'%(DATA_PATH)\n",
    "esp_img_test_path_list = ['%s%s'%(esp_path, x) for x in os.listdir(esp_path)[:5]]\n",
    "usa_img_test_path_list = ['%s%s'%(usa_path, x) for x in os.listdir(usa_path)[:5]]\n",
    "test_img_path_list = esp_img_test_path_list + usa_img_test_path_list\n",
    "new_dataset = []\n",
    "for img_file in test_img_path_list:\n",
    "    img = Image.open(img_file).convert('RGB')\n",
    "    new_dataset.append(img)"
   ]
  },
  {
   "cell_type": "code",
   "execution_count": null,
   "metadata": {},
   "outputs": [],
   "source": [
    "# - specifying the transformation-preprocessing to apply to the images\n",
    "preprocess = data_tranform(train = False)\n",
    "\n",
    "# - checking if the machine has GPUs and enabling GPU computing if so\n",
    "use_gpu = torch.cuda.is_available()"
   ]
  },
  {
   "cell_type": "code",
   "execution_count": null,
   "metadata": {},
   "outputs": [],
   "source": [
    "# - use the model to perform predictions on this \"new\" set of images\n",
    "# ... initialize output dataset and a counter\n",
    "output_data = pd.DataFrame()\n",
    "counter = 0\n",
    "total = len(new_dataset)\n",
    "# ... iterate through the new images to predict\n",
    "for z in range(0, len(new_dataset)):\n",
    "    counter += 1\n",
    "    print('image: %s/%s'%(counter, total))\n",
    "    img_filename = test_img_path_list[z]\n",
    "    img = new_dataset[z]\n",
    "    # ... initialize output dict object for this iteration/img\n",
    "    new_entry = {}\n",
    "    # ... transform-preprocess this imags\n",
    "    var = Variable(preprocess(img).unsqueeze(0))\n",
    "    # ... make the model prediction\n",
    "    pred = model_new(var.cuda())\n",
    "    # ... pull the predicted class probabilities and create a dataframe with them\n",
    "    probs, indeces = nn.Softmax(1)(pred).data.sort()\n",
    "    probs = [round(x, 3) for x in list(probs[0][range(class_labels.shape[0])])]\n",
    "    indeces = list(indeces[0][range(class_labels.shape[0])])\n",
    "    labels = [class_labels.iloc[i]['label'] for i in indeces]\n",
    "    pred_df = pd.DataFrame({'label':labels,\n",
    "                            'probs':probs})\n",
    "    pred_df_t = pred_df.transpose()\n",
    "    final_pred_df = pd.DataFrame(pred_df_t.iloc[1]).transpose()    \n",
    "    final_pred_df.columns = labels\n",
    "    # ... adding some extra information about the image and prediction\n",
    "    final_pred_df['img'] = '/'.join(img_filename.split('/')[-2:])\n",
    "    final_pred_df['max_class'] = list(class_labels['label'])[indeces[len(class_labels)-1]]\n",
    "    final_pred_df['max_pr'] = probs[len(class_labels)-1]\n",
    "    output_data = pd.concat([output_data, final_pred_df])\n",
    "output_data = output_data.reset_index(drop=True)"
   ]
  },
  {
   "cell_type": "code",
   "execution_count": null,
   "metadata": {},
   "outputs": [],
   "source": [
    "output_data"
   ]
  },
  {
   "cell_type": "code",
   "execution_count": null,
   "metadata": {},
   "outputs": [],
   "source": []
  }
 ],
 "metadata": {
  "kernelspec": {
   "display_name": "Python 3",
   "language": "python",
   "name": "python3"
  },
  "language_info": {
   "codemirror_mode": {
    "name": "ipython",
    "version": 3
   },
   "file_extension": ".py",
   "mimetype": "text/x-python",
   "name": "python",
   "nbconvert_exporter": "python",
   "pygments_lexer": "ipython3",
   "version": "3.6.2"
  }
 },
 "nbformat": 4,
 "nbformat_minor": 2
}
